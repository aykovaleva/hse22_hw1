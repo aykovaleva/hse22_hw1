{
 "cells": [
  {
   "cell_type": "code",
   "execution_count": 168,
   "id": "ca70bf08",
   "metadata": {},
   "outputs": [
    {
     "name": "stdout",
     "output_type": "stream",
     "text": [
      "618\n",
      "3925834\n",
      "179307\n",
      "47611\n"
     ]
    }
   ],
   "source": [
    "contigs = \"\"\n",
    "\n",
    "with open(\"big_sample//Poil_contig.fa\", mode = \"r\", encoding = \"UTF-8\") as file:\n",
    "    for line in file:\n",
    "        contigs += line.strip()\n",
    "\n",
    "from re import *\n",
    "print(contigs.count(\">\")) # number of contigs      \n",
    "lengths = findall(r\"len\\d+\", contigs)\n",
    "lengths = list(map(int, [i[3:] for i in lengths]))\n",
    "\n",
    "total = sum(lengths) # total length of contigs\n",
    "print(total)\n",
    "print(max(lengths)) # the biggest contig\n",
    "\n",
    "#N50\n",
    "summary = 0\n",
    "for i in sorted(lengths, reverse = True):\n",
    "    summary += i\n",
    "    if summary >= total // 2:\n",
    "        N50 = i\n",
    "        break\n",
    "        \n",
    "print(N50)  "
   ]
  },
  {
   "cell_type": "code",
   "execution_count": 169,
   "id": "f5fb9b93",
   "metadata": {},
   "outputs": [
    {
     "name": "stdout",
     "output_type": "stream",
     "text": [
      "69\n",
      "3875730\n",
      "3834319\n",
      "3834319\n"
     ]
    }
   ],
   "source": [
    "scaffolds = \"\"\n",
    "\n",
    "with open(\"big_sample//Poil_scaffold.fa\", mode = \"r\", encoding = \"UTF-8\") as file:\n",
    "    for line in file:\n",
    "        scaffolds += line.strip()\n",
    "    \n",
    "from re import *\n",
    "print(scaffolds.count(\">\")) # number of scaffolds   \n",
    "\n",
    "lengths = findall(r\"len\\d+\", scaffolds)\n",
    "lengths = list(map(int, [i[3:] for i in lengths]))\n",
    "\n",
    "total = sum(lengths)\n",
    "print(total) # total length\n",
    "\n",
    "print(max(lengths)) # biggest scaffold\n",
    "\n",
    "summary = 0\n",
    "for i in sorted(lengths, reverse = True):\n",
    "    summary += i\n",
    "    if summary >= total // 2:\n",
    "        N50 = i\n",
    "        break\n",
    "        \n",
    "print(N50)   # N50 for the scaffolds"
   ]
  },
  {
   "cell_type": "code",
   "execution_count": 170,
   "id": "dbf6eb55",
   "metadata": {},
   "outputs": [],
   "source": [
    "#functions\n",
    "\n",
    "def file_reader(adress):\n",
    "    output = \"\"\n",
    "    with open(adress, mode = \"r\", encoding = \"UTF-8\") as file:\n",
    "        for line in file:\n",
    "            output += line.strip()\n",
    "    return output \n",
    "\n",
    "def findN50 (scaffolds):\n",
    "    summary = 0\n",
    "    lengths = list(map(int, [i[3:] for i in findall(r\"len\\d+\", scaffolds)]))\n",
    "    for i in sorted(lengths, reverse = True):\n",
    "        summary += i\n",
    "        if summary >= total // 2:\n",
    "            N50 = i\n",
    "            return N50\n",
    "            break\n",
    "\n",
    "from re import *\n",
    "def contig_stat(scaffolds):\n",
    "    amount = scaffolds.count(\">\") # number of scaffolds   \n",
    "\n",
    "    lengths = findall(r\"len\\d+\", scaffolds)\n",
    "    lengths = list(map(int, [i[3:] for i in lengths]))\n",
    "    total = sum(lengths)\n",
    "    return amount, total, max(lengths) # number of scaffolds, total lengthm, length of biggest scaffold\n",
    "\n",
    "# biggest scaffold comes first in file\n",
    "# so we can easily find it\n",
    "def biggest_scaffold(scaffolds):\n",
    "    return search(r\">scaffold1_len/d+_cov/d+[ATGCN]*\", scaffolds)"
   ]
  },
  {
   "cell_type": "code",
   "execution_count": 171,
   "id": "cce7847e",
   "metadata": {},
   "outputs": [
    {
     "name": "stdout",
     "output_type": "stream",
     "text": [
      "62\n",
      "6825\n"
     ]
    }
   ],
   "source": [
    "#about gaps\n",
    "\n",
    "biggest = match(r\">scaffold1_len3834319_cov232[ATGCN]*\", scaffolds).group()\n",
    "gaps = findall(r\"N+\", biggest)\n",
    "\n",
    "print(len(gaps)) # amount of gaps\n",
    "print(sum(list(map(len, gaps)))) # sum of the lengths of gaps\n"
   ]
  },
  {
   "cell_type": "code",
   "execution_count": null,
   "id": "b24a7c7b",
   "metadata": {},
   "outputs": [],
   "source": [
    "\n",
    "\n"
   ]
  },
  {
   "cell_type": "code",
   "execution_count": 172,
   "id": "3a28a606",
   "metadata": {},
   "outputs": [
    {
     "name": "stdout",
     "output_type": "stream",
     "text": [
      "10\n",
      "1838\n"
     ]
    }
   ],
   "source": [
    "# less gaps\n",
    "opt_scaffolds = file_reader(\"big_sample//Poil_gapClosed.fa\") # optimised, less gaps\n",
    "        \n",
    "biggest = match(r\">scaffold1_cov232[ATGCN]*\", opt_scaffolds).group()\n",
    "gaps = findall(r\"N+\", biggest)\n",
    "\n",
    "print(len(gaps)) # amount of gaps\n",
    "print(sum(list(map(len, gaps)))) # sum of the lengths of gaps"
   ]
  },
  {
   "cell_type": "code",
   "execution_count": 173,
   "id": "6b52f423",
   "metadata": {},
   "outputs": [],
   "source": [
    "with open(\"biggest_scaffold.txt\", mode = \"w\") as output:\n",
    "    output.write(biggest)6\n",
    "1533"
   ]
  },
  {
   "cell_type": "code",
   "execution_count": 174,
   "id": "23cc1efd",
   "metadata": {},
   "outputs": [],
   "source": [
    "#comparison\n",
    "\n",
    "# reading the files\n",
    "sm_contigs = file_reader(\"small_sample//Poil_contig.fa\")\n",
    "sm_scaffolds = file_reader(\"small_sample//Poil_scaffold.fa\")\n",
    "sm_opt_scaffolds = file_reader(\"small_sample//Poil_gapClosed.fa\")\n",
    "\n",
    "\n",
    "sm_con_amount = contig_stat(sm_contigs)\n",
    "sm_sca_amount = contig_stat(sm_scaffolds)\n",
    "\n",
    "sm_con_nN50 = findN50(sm_contigs)\n",
    "sm_sca_nN50 = findN50(sm_scaffolds)\n",
    "\n",
    "sm_sca_big = match(r\">scaffold1_len2754567_cov141[ATGCN]*\", sm_scaffolds).group() # 2754567\n",
    "sm_opt_sca_big = match(r\">scaffold1_cov141[ATGCN]*\", sm_opt_scaffolds).group() # 2774162 - 17 = 2774145\n",
    "\n",
    "sm_sca_gaps = findall(r\"N+\", sm_sca_big)\n",
    "sm_opt_sca_gaps = findall(r\"N+\", sm_opt_sca_big)"
   ]
  },
  {
   "cell_type": "code",
   "execution_count": 177,
   "id": "27843cde",
   "metadata": {},
   "outputs": [
    {
     "name": "stdout",
     "output_type": "stream",
     "text": [
      "(618, 3919421, 226585)\n",
      "(75, 3873363, 2754567) \n",
      "\n",
      "73934\n",
      "2754567 \n",
      "\n",
      "51\n",
      "4813 \n",
      "\n",
      "6\n",
      "1533\n"
     ]
    }
   ],
   "source": [
    "print(sm_con_amount) # number of scaffolds, total lengthm, length of biggest scaffold\n",
    "print(sm_sca_amount, \"\\n\") \n",
    "\n",
    "print(sm_con_nN50)\n",
    "print(sm_sca_nN50, \"\\n\")\n",
    "\n",
    "print(len(sm_sca_gaps)) # amount of gaps\n",
    "print(sum(list(map(len, sm_sca_gaps))), \"\\n\") # sum of the lengths of gaps\n",
    "\n",
    "print(len(sm_opt_sca_gaps )) # amount of gaps\n",
    "print(sum(list(map(len, sm_opt_sca_gaps )))) # sum of the lengths of gaps"
   ]
  },
  {
   "cell_type": "code",
   "execution_count": 176,
   "id": "8fd4d34b",
   "metadata": {},
   "outputs": [
    {
     "name": "stdout",
     "output_type": "stream",
     "text": [
      "17\n"
     ]
    }
   ],
   "source": [
    "       print(len(\">scaffold1_cov141\"))"
   ]
  },
  {
   "cell_type": "code",
   "execution_count": 152,
   "id": "c49671f7",
   "metadata": {},
   "outputs": [
    {
     "data": {
      "text/plain": [
       "2774145"
      ]
     },
     "execution_count": 152,
     "metadata": {},
     "output_type": "execute_result"
    }
   ],
   "source": [
    "2774162 - 17"
   ]
  },
  {
   "cell_type": "code",
   "execution_count": null,
   "id": "ae8c9795",
   "metadata": {},
   "outputs": [],
   "source": []
  }
 ],
 "metadata": {
  "kernelspec": {
   "display_name": "Python 3 (ipykernel)",
   "language": "python",
   "name": "python3"
  },
  "language_info": {
   "codemirror_mode": {
    "name": "ipython",
    "version": 3
   },
   "file_extension": ".py",
   "mimetype": "text/x-python",
   "name": "python",
   "nbconvert_exporter": "python",
   "pygments_lexer": "ipython3",
   "version": "3.9.7"
  }
 },
 "nbformat": 4,
 "nbformat_minor": 5
}
